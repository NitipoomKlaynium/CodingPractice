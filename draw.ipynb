{
 "cells": [
  {
   "cell_type": "code",
   "execution_count": 2,
   "metadata": {},
   "outputs": [
    {
     "name": "stdout",
     "output_type": "stream",
     "text": [
      "    *\n",
      "   * *\n",
      "  * * *\n",
      " * * * *\n"
     ]
    }
   ],
   "source": [
    "def triangle(n: int) -> None :\n",
    "    for i in range(n) :\n",
    "        print(' '*(n - i), end='')\n",
    "        print(' '.join('*'*(i + 1)))\n",
    "        \n",
    "triangle(4)"
   ]
  },
  {
   "cell_type": "code",
   "execution_count": 7,
   "metadata": {},
   "outputs": [
    {
     "name": "stdout",
     "output_type": "stream",
     "text": [
      "*      *\n",
      "**    **\n",
      "***  ***\n",
      "********\n",
      "***  ***\n",
      "**    **\n",
      "*      *\n"
     ]
    }
   ],
   "source": [
    "def doubleTriangle(n: int) -> None :\n",
    "    max = 2 * n - 1\n",
    "    mid = max // 2 + 1\n",
    "    for i in range(max) :\n",
    "        count = mid - abs(mid - i - 1)\n",
    "        print('*' * (count), end = '')\n",
    "        print('  ' * (mid - count), end = '')\n",
    "        print('*' * (count))\n",
    "        \n",
    "doubleTriangle(4)"
   ]
  },
  {
   "cell_type": "code",
   "execution_count": 4,
   "metadata": {},
   "outputs": [
    {
     "name": "stdout",
     "output_type": "stream",
     "text": [
      "        +\n",
      "      * + *\n",
      "    * * + * *\n",
      "  * * * + * * *\n",
      "+ + + + + + + + +\n",
      "  * * * + * * *\n",
      "    * * + * *\n",
      "      * + *\n",
      "        +\n"
     ]
    }
   ],
   "source": [
    "def kite(n: int) -> None :\n",
    "    max = 2 * n + 1\n",
    "    mid = max // 2\n",
    "    \n",
    "    for i in range(mid) :\n",
    "        print(' '.join(' ' * (mid - i) + '*' * (i) + '+' + '*' * (i)))\n",
    "        \n",
    "    print(' '.join('+' * (max)))\n",
    "    \n",
    "    for i in range(mid - 1, -1, -1) :\n",
    "        print(' '.join(' ' * (mid - i) + '*' * (i) + '+' + '*' * (i)))\n",
    "    \n",
    "    \n",
    "kite(4)"
   ]
  }
 ],
 "metadata": {
  "kernelspec": {
   "display_name": "Python 3",
   "language": "python",
   "name": "python3"
  },
  "language_info": {
   "codemirror_mode": {
    "name": "ipython",
    "version": 3
   },
   "file_extension": ".py",
   "mimetype": "text/x-python",
   "name": "python",
   "nbconvert_exporter": "python",
   "pygments_lexer": "ipython3",
   "version": "3.10.10"
  },
  "orig_nbformat": 4
 },
 "nbformat": 4,
 "nbformat_minor": 2
}
